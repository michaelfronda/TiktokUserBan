{
 "cells": [
  {
   "cell_type": "code",
   "execution_count": 1,
   "id": "07a32543",
   "metadata": {},
   "outputs": [],
   "source": [
    "import requests\n",
    "\n",
    "user = {'video_duration_sec': 3.496507561,\n",
    " 'video_view_count': 11.85564955,\n",
    " 'video_like_count': 11.25617342,\n",
    " 'video_share_count': 9.854034669,\n",
    " 'video_download_count': 7.057897937,\n",
    " 'video_comment_count': 6.529418838,\n",
    " 'text_length': 107\n",
    "}"
   ]
  },
  {
   "cell_type": "code",
   "execution_count": 3,
   "id": "86aff79f",
   "metadata": {},
   "outputs": [
    {
     "name": "stdout",
     "output_type": "stream",
     "text": [
      "{'prob': 0.6815057851836173}\n"
     ]
    }
   ],
   "source": [
    "local = \"http://0.0.0.0:9696/predict\"  # local URL \n",
    "\n",
    "response_local = requests.post(local, json=user)\n",
    "\n",
    "# Print the prediction\n",
    "print(response_local.json())"
   ]
  }
 ],
 "metadata": {
  "kernelspec": {
   "display_name": "Python 3 (ipykernel)",
   "language": "python",
   "name": "python3"
  },
  "language_info": {
   "codemirror_mode": {
    "name": "ipython",
    "version": 3
   },
   "file_extension": ".py",
   "mimetype": "text/x-python",
   "name": "python",
   "nbconvert_exporter": "python",
   "pygments_lexer": "ipython3",
   "version": "3.11.5"
  }
 },
 "nbformat": 4,
 "nbformat_minor": 5
}
